{
 "cells": [
  {
   "cell_type": "code",
   "execution_count": 84,
   "metadata": {},
   "outputs": [],
   "source": [
    "import yahooquery as yq\n",
    "import pandas as pd\n",
    "import numpy as np\n",
    "from sklearn.linear_model import LogisticRegression\n",
    "from sklearn import metrics\n",
    "from sklearn.model_selection import train_test_split\n",
    "from sklearn.model_selection import GridSearchCV"
   ]
  },
  {
   "cell_type": "code",
   "execution_count": 8,
   "metadata": {},
   "outputs": [],
   "source": [
    "ibov_comp = pd.read_csv('IBOVDia_10-07-23.csv', sep=';', encoding='latin-1')\n",
    "ibov_comp = ibov_comp.iloc[0:86, 0:2]\n",
    "ibov_comp = ibov_comp['Código'] + '.SA'\n",
    "\n",
    "rj_emp = pd.read_csv('emprj.csv', sep=';', encoding='latin-1')\n",
    "rj_emp = rj_emp.iloc[:,0:1] + '.SA'\n",
    "\n",
    "rj_emp, ibov_comp = rj_emp.values.tolist() , ibov_comp.values.tolist()\n",
    "\n",
    "empresas = ibov_comp + rj_emp\n",
    "\n",
    "empresas = pd.Series(empresas).drop_duplicates().tolist()\n"
   ]
  },
  {
   "cell_type": "code",
   "execution_count": 29,
   "metadata": {},
   "outputs": [
    {
     "name": "stdout",
     "output_type": "stream",
     "text": [
      "erro RAIZ4.SA\n"
     ]
    }
   ],
   "source": [
    "#TotalAssets StockholdersEquity TotalLiabilitiesNetMinorityInterest Balance Sheet\n",
    "#Netincome TotalReveneu Income Statement\n",
    "\n",
    "df = []\n",
    "for ticker in empresas:\n",
    "    try:\n",
    "        data = yq.Ticker(ticker).balance_sheet()\n",
    "        TotalAssets, StockHoldersEquity = data['TotalAssets'].iloc[-1], data['StockholdersEquity'].iloc[-1]\n",
    "        data2 = yq.Ticker(ticker).income_statement()\n",
    "        NetIncome, TotalRevenue = data2['NetIncome'].iloc[-1], data2['TotalRevenue'].iloc[-1]\n",
    "        df.append([ticker, TotalAssets, StockHoldersEquity, NetIncome, TotalRevenue])\n",
    "    except:\n",
    "        print('erro', ticker)\n",
    "        \n",
    "#dict to dataframe\n",
    "\n",
    "df = pd.DataFrame(df, columns=['ticker', 'TotalAssets', 'StockHoldersEquity', 'NetIncome', 'TotalRevenue'])\n",
    "df['solvencia'] = df['ticker'].apply(lambda x : 0 if x in rj_emp else 1)\n"
   ]
  },
  {
   "cell_type": "code",
   "execution_count": null,
   "metadata": {},
   "outputs": [],
   "source": [
    "df_logit = df.copy()\n",
    "df_logit['ROA'] = df_logit['NetIncome']/df_logit['TotalAssets']\n",
    "df_logit['GA'] = df_logit['TotalRevenue']/df_logit['TotalAssets']\n",
    "df_logit['EG'] = df_logit['StockHoldersEquity']/df_logit['TotalAssets']\n",
    "df_logit = df_logit[['ticker', 'solvencia', 'ROA', 'GA', 'EG']]\n",
    "\n",
    "df_logit.dropna(inplace=True)\n",
    "df_logit"
   ]
  },
  {
   "cell_type": "code",
   "execution_count": 90,
   "metadata": {},
   "outputs": [
    {
     "name": "stdout",
     "output_type": "stream",
     "text": [
      "Accuracy of logistic regression classifier on test set: 0.84\n",
      "Parâmetro do recurso 1: 0.4519605030771912\n",
      "Parâmetro do recurso 2: 1.7497392491787216\n",
      "Parâmetro do recurso 3: 3.45762964923258\n",
      "[0.46746027]\n"
     ]
    }
   ],
   "source": [
    "\n",
    "previsores = df_logit.iloc[:, 2:5].values\n",
    "classe = df_logit.iloc[:, 1].values\n",
    "\n",
    "X_train, X_test, y_train, y_test = train_test_split(previsores, classe, test_size=0.3, random_state=0)\n",
    "\n",
    "logreg = LogisticRegression()\n",
    "\n",
    "parameters = {'C': [0.01, 0.1, 1, 10, 100, 1000], 'penalty': ['l1', 'l2'], 'solver': ['liblinear', 'saga']}\n",
    "\n",
    "grid_search = GridSearchCV(estimator=logreg, param_grid=parameters, scoring='accuracy', cv=10, n_jobs=-1)\n",
    "grid_search.fit(X_train, y_train)\n",
    "best_model = grid_search.best_estimator_\n",
    "\n",
    "y_pred = best_model.predict(X_test)\n",
    "\n",
    "accuracy = best_model.score(X_test, y_test)\n",
    "print('Accuracy of logistic regression classifier on test set: {:.2f}'.format(accuracy))\n",
    "\n",
    "# Obtém os parâmetros estimados\n",
    "params = best_model.coef_\n",
    "intercept = best_model.intercept_\n",
    "# Imprime os parâmetros estimados\n",
    "for i, param in enumerate(params[0]):\n",
    "    print(f'Parâmetro do recurso {i+1}: {param}')\n",
    "\n",
    "print(intercept)\n"
   ]
  },
  {
   "cell_type": "code",
   "execution_count": 103,
   "metadata": {},
   "outputs": [
    {
     "name": "stdout",
     "output_type": "stream",
     "text": [
      "A precisão do modelo foi de:  0.7904761904761904\n"
     ]
    }
   ],
   "source": [
    "df_logit['Pi'] = (1) / (1 + np.exp(-(intercept + params[0][0]*df_logit['ROA'] + params[0][1]*df_logit['GA'] + params[0][2]*df_logit['EG'])))\n",
    "df_logit['solvencia'] = df_logit['solvencia'].astype('bool')\n",
    "\n",
    "df_logit['pred'] = np.where(np.logical_and(df_logit['solvencia'] == True, df_logit['Pi'] > 0.5), 1, 0)\n",
    "acerto = df_logit['pred'].mean()\n",
    "print('A precisão do modelo foi de: ',acerto)"
   ]
  }
 ],
 "metadata": {
  "kernelspec": {
   "display_name": "Python 3",
   "language": "python",
   "name": "python3"
  },
  "language_info": {
   "codemirror_mode": {
    "name": "ipython",
    "version": 3
   },
   "file_extension": ".py",
   "mimetype": "text/x-python",
   "name": "python",
   "nbconvert_exporter": "python",
   "pygments_lexer": "ipython3",
   "version": "3.9.13"
  },
  "orig_nbformat": 4
 },
 "nbformat": 4,
 "nbformat_minor": 2
}
